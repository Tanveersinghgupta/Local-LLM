{
 "cells": [
  {
   "cell_type": "code",
   "execution_count": 2,
   "id": "af6f53c9",
   "metadata": {},
   "outputs": [
    {
     "name": "stderr",
     "output_type": "stream",
     "text": [
      "You are using the default legacy behaviour of the <class 'transformers.models.t5.tokenization_t5.T5Tokenizer'>. This is expected, and simply means that the `legacy` (previous) behavior will be used so nothing changes for you. If you want to use the new behaviour, set `legacy=False`. This should only be set if you understand what it means, and thoroughly read the reason why this was added as explained in https://github.com/huggingface/transformers/pull/24565\n",
      "Special tokens have been added in the vocabulary, make sure the associated word embeddings are fine-tuned or trained.\n",
      "C:\\Users\\tanve\\anaconda3\\lib\\site-packages\\torch\\_utils.py:776: UserWarning: TypedStorage is deprecated. It will be removed in the future and UntypedStorage will be the only storage class. This should only matter to you if you are using storages directly.  To access UntypedStorage directly, use tensor.untyped_storage() instead of tensor.storage()\n",
      "  return self.fget.__get__(instance, owner)()\n"
     ]
    }
   ],
   "source": [
    "from langchain.text_splitter import RecursiveCharacterTextSplitter\n",
    "from langchain.document_loaders import PyPDFLoader, DirectoryLoader\n",
    "from langchain.chains.summarize import load_summarize_chain\n",
    "from transformers import T5Tokenizer, T5ForConditionalGeneration\n",
    "from transformers import pipeline\n",
    "import torch\n",
    "import base64\n",
    "\n",
    "#model and tokenizer loading\n",
    "checkpoint = \"LaMini-Flan-T5-248M\"\n",
    "tokenizer = T5Tokenizer.from_pretrained(checkpoint)\n",
    "base_model = T5ForConditionalGeneration.from_pretrained(checkpoint, device_map='auto', torch_dtype=torch.float32)\n",
    "\n",
    "#file loader and preprocessing\n",
    "def file_preprocessing(file):\n",
    "    loader =  PyPDFLoader(file)\n",
    "    pages = loader.load_and_split()\n",
    "    text_splitter = RecursiveCharacterTextSplitter(chunk_size=200, chunk_overlap=50)\n",
    "    texts = text_splitter.split_documents(pages)\n",
    "    final_texts = \"\"\n",
    "    for text in texts:\n",
    "        print(text)\n",
    "        final_texts = final_texts + text.page_content\n",
    "    return final_texts\n",
    "\n",
    "#LLM pipeline\n",
    "def llm_pipeline(filepath):\n",
    "    pipe_sum = pipeline(\n",
    "        'summarization',\n",
    "        model = base_model,\n",
    "        tokenizer = tokenizer,\n",
    "        max_length = 500, \n",
    "        min_length = 50)\n",
    "    input_text = file_preprocessing(filepath)\n",
    "    result = pipe_sum(input_text)\n",
    "    result = result[0]['summary_text']\n",
    "    return result\n",
    "\n"
   ]
  },
  {
   "cell_type": "code",
   "execution_count": 5,
   "id": "b0ba66a6",
   "metadata": {
    "scrolled": false
   },
   "outputs": [
    {
     "name": "stdout",
     "output_type": "stream",
     "text": [
      "page_content='Tanveer  Singh  Gupta  \\n MSc.  Statistics  and Data  Science  \\n  Email : - tanveersingh182764@gmail.com  Contact :- +91 9082289392     Tanveer  Singh  Gupta       Github   \\nEDUCATION' metadata={'source': 'TanveerSingh_Resume.pdf', 'page': 0}\n",
      "page_content='EDUCATION  \\nQualification  Institute  Board  / University  Year  % / CGPA  \\nMSc.  Statistics  and DS NSoMASA,  NMIMS,  Mumbai   NMIMS  2022 -2024  3.93/4' metadata={'source': 'TanveerSingh_Resume.pdf', 'page': 0}\n",
      "page_content='BS (DS and Applications)  IIT Madras,  Chennai   IIT Madras  2020 -2024  8.5/10  \\nBSc. (Statistics)  SIES  College,  Mumbai   Mumbai  University  2019 -2022  9.87/10' metadata={'source': 'TanveerSingh_Resume.pdf', 'page': 0}\n",
      "page_content='HSC  Christ  Academy,  Navi  Mumbai   HSC  2019  79% \\nSSC Sacred  Heart  High  School,  Mumbai   SSC 2017  86% \\n \\nINTERNSHIPS  20 Months  \\n \\nHDFC Bank,' metadata={'source': 'TanveerSingh_Resume.pdf', 'page': 0}\n",
      "page_content='INTERNSHIPS  20 Months  \\n \\nHDFC Bank,  \\nMumbai  Position: - Data Science Intern (Marketing Analytics)' metadata={'source': 'TanveerSingh_Resume.pdf', 'page': 0}\n",
      "page_content='• Developing a state -of-the-art recommendation system using deep neural network -based recommendation' metadata={'source': 'TanveerSingh_Resume.pdf', 'page': 0}\n",
      "page_content='systems for 23+ bank products on a base of 6.5+ crore customers, leveraging capabilities of multiple  \\nrecommendation models such as ( YouTube -Ranking , SIM, Two -tower).' metadata={'source': 'TanveerSingh_Resume.pdf', 'page': 0}\n",
      "page_content='• Developing a n ID-Face  verification model leveraging mtcnn for the face detection and leveraging \\nfacenet512  capabilities  for face verification .' metadata={'source': 'TanveerSingh_Resume.pdf', 'page': 0}\n",
      "page_content='• Leveraged S -bert encodings for grouping documents of similar context , reducing the overall redundant  \\ndocuments  and consolidating them.   \\nJan-Present  \\n2024  \\n \\nStylumia ,' metadata={'source': 'TanveerSingh_Resume.pdf', 'page': 0}\n",
      "page_content='Jan-Present  \\n2024  \\n \\nStylumia , \\nRemote  Position: - Data Science Intern (Forecasting and Prediction)' metadata={'source': 'TanveerSingh_Resume.pdf', 'page': 0}\n",
      "page_content='• Utilized data -driven analysis to resolve brand challenges in assessing store inventory, strategizing SKU' metadata={'source': 'TanveerSingh_Resume.pdf', 'page': 0}\n",
      "page_content='planning, and pinpointing high -revenue products and emerging market trends  thereby enhancing overall \\nbusiness performance .' metadata={'source': 'TanveerSingh_Resume.pdf', 'page': 0}\n",
      "page_content='business performance . \\n• Leveraged Nixtla to develop a hierarchical machine learning -based time series forecasting model to \\nforecast the SKU count at a store level.   \\nOct -Dec \\n2023' metadata={'source': 'TanveerSingh_Resume.pdf', 'page': 0}\n",
      "page_content='Oct -Dec \\n2023  \\n \\n \\n \\n \\nRaaho  \\n(Funded  by Paytm  and \\nCred),  Gurugram  Position:  - Data  Science  Intern' metadata={'source': 'TanveerSingh_Resume.pdf', 'page': 0}\n",
      "page_content='• Developed  data-driven  demand  and supply  zones  using  hybrid  and iterative  techniques  with a focus  on \\nhigh profitability  and increasing  the overall  city coverage.( Link )' metadata={'source': 'TanveerSingh_Resume.pdf', 'page': 0}\n",
      "page_content=\"• Created a forecasting model using the XGBoost algorithm, reducing the supplier's time for obtaining\" metadata={'source': 'TanveerSingh_Resume.pdf', 'page': 0}\n",
      "page_content='freight charges by 98% and increasing the coverage of satisfactory bid amounts from 15% to 97%.  \\n• Developed hybrid demand forecasting model using (LSTM+XG -Boost) and accurately provided support' metadata={'source': 'TanveerSingh_Resume.pdf', 'page': 0}\n",
      "page_content='to the demand ops team for optimizing inventory management, enhancing supply chain efficiency, and  \\nmaking  informed  decisions.' metadata={'source': 'TanveerSingh_Resume.pdf', 'page': 0}\n",
      "page_content='making  informed  decisions.  \\n• Developed, trucker -to-lane recommendation using NCF (Neural Collaborative Filtering), and customer' metadata={'source': 'TanveerSingh_Resume.pdf', 'page': 0}\n",
      "page_content='recommendation  system  to optimize  the freight  marketplace  in order  to maximize  the overall  fill-rate.' metadata={'source': 'TanveerSingh_Resume.pdf', 'page': 0}\n",
      "page_content='• Developed  a hybrid  Zero -inflated -regression  model  in order  to capture  the probable  expected loads .' metadata={'source': 'TanveerSingh_Resume.pdf', 'page': 0}\n",
      "page_content='• Conducted  extensive  research  in the Online  Freight  Exchange  (OFEX)  domain,  leveraging  insights  to' metadata={'source': 'TanveerSingh_Resume.pdf', 'page': 0}\n",
      "page_content='design  predictive  models  for real-time inventory  management  and precise  freight  charge  prediction.   \\n \\n \\nApr-Sept   \\n2023  \\n& \\n Jun- Dec \\n2022  \\n \\n \\n \\n \\n \\nIGT Solutions,' metadata={'source': 'TanveerSingh_Resume.pdf', 'page': 0}\n",
      "page_content='& \\n Jun- Dec \\n2022  \\n \\n \\n \\n \\n \\nIGT Solutions,  \\nRemote  Position:  - Data  Science  Intern  \\n• Created  COVID -19 report  phasor  using  NLP  techniques.' metadata={'source': 'TanveerSingh_Resume.pdf', 'page': 0}\n",
      "page_content='• Utilized  graph  analysis  and probability  theory  to optimize  staff allocation  across  multiple  airports.  May -Aug \\n2021  \\n \\nPROJECTS  \\n“पाठ साराांश”:  \\nHindi text Summarization' metadata={'source': 'TanveerSingh_Resume.pdf', 'page': 0}\n",
      "page_content='“पाठ साराांश”:  \\nHindi text Summarization  \\nusing  NLP  and Transformer' metadata={'source': 'TanveerSingh_Resume.pdf', 'page': 0}\n",
      "page_content='using  NLP  and Transformer  \\n   Neural  Network.  This project is focused on addressing the increasing demand for text summarization systems specifically' metadata={'source': 'TanveerSingh_Resume.pdf', 'page': 0}\n",
      "page_content='designed for Hindi text. It employs a combination of extractive and abstractive methods, including TF -IDF,' metadata={'source': 'TanveerSingh_Resume.pdf', 'page': 0}\n",
      "page_content='Text Rank, T5,  and BART  to generate  concise  summaries.  The evaluation  of the generated summaries  is' metadata={'source': 'TanveerSingh_Resume.pdf', 'page': 0}\n",
      "page_content='conducted using metrics such as ROUGE -1, ROUGE -2 and ROUGE -L, which assess the quality and coherence  \\nof the summaries.   \\nJan-May  \\n2023  \\nApplication  of Mathematical' metadata={'source': 'TanveerSingh_Resume.pdf', 'page': 0}\n",
      "page_content='conducted using metrics such as ROUGE -1, ROUGE -2 and ROUGE -L, which assess the quality and coherence  \\nof the summaries.   \\nJan-May  \\n2023  \\nApplication  of Mathematical \\nTechniques  in Computed' metadata={'source': 'TanveerSingh_Resume.pdf', 'page': 0}\n",
      "page_content='Techniques  in Computed  \\nTomography  The aim of this study  was to evaluate  and improve  the accuracy  of computed  tomography  image  reconstruction' metadata={'source': 'TanveerSingh_Resume.pdf', 'page': 0}\n",
      "page_content='through  various  techniques,  including  Least  Square  Method,  Filtered  Back  Projection  with different  filters,' metadata={'source': 'TanveerSingh_Resume.pdf', 'page': 0}\n",
      "page_content='Kaczmarz iterative method, and Expectation -Maximization Algorithm, in order to enhance image quality,  \\nreduce  errors,  and enable  more  effective  detection  of minute  details.   \\nSep-Nov' metadata={'source': 'TanveerSingh_Resume.pdf', 'page': 0}\n",
      "page_content='Sep-Nov \\n2022  \\n \\n Financial  Literacy  This study investigate s how socio -demographic factors affect Financial Literacy through the utilization of' metadata={'source': 'TanveerSingh_Resume.pdf', 'page': 0}\n",
      "page_content='machine  learning techniques. By employing these methodologies, we examine d the correlation between socio -' metadata={'source': 'TanveerSingh_Resume.pdf', 'page': 0}\n",
      "page_content='demographic variables and the probability of possessing financial literacy skills. The findings of this research' metadata={'source': 'TanveerSingh_Resume.pdf', 'page': 0}\n",
      "page_content='offer ed valuable insights into the pivotal factors influencing financial literacy, facilitating the development of' metadata={'source': 'TanveerSingh_Resume.pdf', 'page': 0}\n",
      "page_content='focused interventions and strategies to bolster financial education and inclusion efforts.   \\nJan-Feb \\n2022  \\n \\nEXTRA  CURRICULAR  ACTIVITIES' metadata={'source': 'TanveerSingh_Resume.pdf', 'page': 0}\n",
      "page_content='2022  \\n \\nEXTRA  CURRICULAR  ACTIVITIES  \\n \\n \\n \\nAwards  & Achievements  • Winner of Project/Poster Presentation, International Conference on Statistics 2023 of \\nNMIMS, NSoMASA.  2023' metadata={'source': 'TanveerSingh_Resume.pdf', 'page': 0}\n",
      "page_content=\"NMIMS, NSoMASA.  2023  \\n• 2nd Runner -up in Insightalyze 3.0, the National Level Data Visualization Case Competition at  \\nTechnoverse'23  - the Business  Analytics  Fest of IIM Ranchi.  2023\" metadata={'source': 'TanveerSingh_Resume.pdf', 'page': 0}\n",
      "page_content='• Finalist  Pratyaksh  the Data Visualization  challenge  of Goa Institute  of Management . 2023  \\n• Selected  for Winter  School  on Deep  Learning  by ISI Kolkata .  2021' metadata={'source': 'TanveerSingh_Resume.pdf', 'page': 0}\n",
      "page_content='• Selected  for Madhava  mathematics  camp  by TIFR  .   2020  \\n• Introduction  to Abstract  and Linear  Algebra  by NPTEL  (Silver  Medal)   2020' metadata={'source': 'TanveerSingh_Resume.pdf', 'page': 0}\n",
      "page_content='• Calculus  of One Variable  by NPTEL  (Silver  Medal)    2020  \\n \\nCERTIFICATIONS  & SKILLS   \\nCertifications  Understanding and Visualizing Data with Python' metadata={'source': 'TanveerSingh_Resume.pdf', 'page': 0}\n",
      "page_content='Inferential Statistical Analysis from Python  Fitting Statistical Models to Data with Python  \\nIntroduction to Graph Theory  \\nProgramming  Skills  Python, Excel, Notion, Fast -API, SQL, Tableau' metadata={'source': 'TanveerSingh_Resume.pdf', 'page': 0}\n",
      "page_content='Skills  Statistical Analysis and Modelling, Time series Analysis, Neural Networks, Machine Learning.  \\n \\nINTERESTS  \\nAmateur Trader | Public Speaking | Standup -Comedy' metadata={'source': 'TanveerSingh_Resume.pdf', 'page': 0}\n"
     ]
    },
    {
     "name": "stdout",
     "output_type": "stream",
     "text": [
      "Tanveer Singh Gupta, MSc. Statistics and Data Science, is a graduate of the University of Mumbai and a professor at the National Institute of Business Administration (NIBA). He has developed a state-of-the-art recommendation system using deep neural network-based recommendation systems for 23+ bank products on a base of 6.5+ crore customers, leveraging capabilities of multiple recommendation models such as YouTube-Ranking, SIM, Two-tower, and n ID-Face verification model for face detection and mtcnn for face verification. The study aims to evaluate and improve the accuracy of computed tomography image reconstruction through various techniques such as Least Square Method, Filtered Back Projection with different filters, Kaczmarz iterative method, and Expectation-Maximization Algorithm. He has also developed predictive models for real-time inventory management, strategizing SKUplanning, and pinpointing high-revenue products and emerging market trends thereby enhancing overall business performance. He is also a student at the International Conference on Statistics 2023 of NMIMS, NSoMASA, and Raaho (Funded by Paytm and Cred). The study explores how socio-demographic factors affect financial literacy through the utilization of machine learning techniques. The findings of this research offer insights into the pivotal factors influencing financial literacy, facilitating the development of focused interventions and strategies to bolster financial education and inclusion efforts.\n"
     ]
    }
   ],
   "source": [
    "print(llm_pipeline('TanveerSingh_Resume.pdf'))"
   ]
  },
  {
   "cell_type": "code",
   "execution_count": 15,
   "id": "50182778",
   "metadata": {},
   "outputs": [],
   "source": [
    "#file loader and preprocessing\n",
    "def file_preprocessing(file):\n",
    "    loader =  PyPDFLoader(file)\n",
    "    pages = loader.load_and_split()\n",
    "    text_splitter = RecursiveCharacterTextSplitter(chunk_size=1000, chunk_overlap=100)\n",
    "    texts = text_splitter.split_documents(pages)\n",
    "    final_texts = \"\"\n",
    "    for text in texts:\n",
    "        print(text)\n",
    "        final_texts = final_texts + text.page_content\n",
    "    return final_texts\n",
    "\n",
    "#LLM pipeline\n",
    "def llm_pipeline(filepath):\n",
    "    pipe_sum = pipeline(\n",
    "        'summarization',\n",
    "        model = base_model,\n",
    "        tokenizer = tokenizer,\n",
    "        max_length = 500, \n",
    "        min_length = 50)\n",
    "    input_text = file_preprocessing(filepath)\n",
    "    result = pipe_sum(input_text)\n",
    "    result = result[0]['summary_text']\n",
    "    return result"
   ]
  },
  {
   "cell_type": "code",
   "execution_count": 16,
   "id": "661a6a5f",
   "metadata": {
    "scrolled": false
   },
   "outputs": [
    {
     "name": "stdout",
     "output_type": "stream",
     "text": [
      "page_content='Tanveer  Singh  Gupta  \\n MSc.  Statistics  and Data  Science  \\n  Email : - tanveersingh182764@gmail.com  Contact :- +91 9082289392     Tanveer  Singh  Gupta       Github   \\nEDUCATION  \\nQualification  Institute  Board  / University  Year  % / CGPA  \\nMSc.  Statistics  and DS NSoMASA,  NMIMS,  Mumbai   NMIMS  2022 -2024  3.93/4  \\nBS (DS and Applications)  IIT Madras,  Chennai   IIT Madras  2020 -2024  8.5/10  \\nBSc. (Statistics)  SIES  College,  Mumbai   Mumbai  University  2019 -2022  9.87/10  \\nHSC  Christ  Academy,  Navi  Mumbai   HSC  2019  79% \\nSSC Sacred  Heart  High  School,  Mumbai   SSC 2017  86% \\n \\nINTERNSHIPS  20 Months  \\n \\nHDFC Bank,  \\nMumbai  Position: - Data Science Intern (Marketing Analytics)  \\n• Developing a state -of-the-art recommendation system using deep neural network -based recommendation \\nsystems for 23+ bank products on a base of 6.5+ crore customers, leveraging capabilities of multiple  \\nrecommendation models such as ( YouTube -Ranking , SIM, Two -tower).' metadata={'source': 'TanveerSingh_Resume.pdf', 'page': 0}\n",
      "page_content='recommendation models such as ( YouTube -Ranking , SIM, Two -tower).  \\n• Developing a n ID-Face  verification model leveraging mtcnn for the face detection and leveraging \\nfacenet512  capabilities  for face verification . \\n• Leveraged S -bert encodings for grouping documents of similar context , reducing the overall redundant  \\ndocuments  and consolidating them.   \\nJan-Present  \\n2024  \\n \\nStylumia , \\nRemote  Position: - Data Science Intern (Forecasting and Prediction)  \\n• Utilized data -driven analysis to resolve brand challenges in assessing store inventory, strategizing SKU \\nplanning, and pinpointing high -revenue products and emerging market trends  thereby enhancing overall \\nbusiness performance . \\n• Leveraged Nixtla to develop a hierarchical machine learning -based time series forecasting model to \\nforecast the SKU count at a store level.   \\nOct -Dec \\n2023  \\n \\n \\n \\n \\nRaaho  \\n(Funded  by Paytm  and \\nCred),  Gurugram  Position:  - Data  Science  Intern' metadata={'source': 'TanveerSingh_Resume.pdf', 'page': 0}\n",
      "page_content=\"Raaho  \\n(Funded  by Paytm  and \\nCred),  Gurugram  Position:  - Data  Science  Intern  \\n• Developed  data-driven  demand  and supply  zones  using  hybrid  and iterative  techniques  with a focus  on \\nhigh profitability  and increasing  the overall  city coverage.( Link ) \\n• Created a forecasting model using the XGBoost algorithm, reducing the supplier's time for obtaining \\nfreight charges by 98% and increasing the coverage of satisfactory bid amounts from 15% to 97%.  \\n• Developed hybrid demand forecasting model using (LSTM+XG -Boost) and accurately provided support  \\nto the demand ops team for optimizing inventory management, enhancing supply chain efficiency, and  \\nmaking  informed  decisions.  \\n• Developed, trucker -to-lane recommendation using NCF (Neural Collaborative Filtering), and customer  \\nrecommendation  system  to optimize  the freight  marketplace  in order  to maximize  the overall  fill-rate.\" metadata={'source': 'TanveerSingh_Resume.pdf', 'page': 0}\n",
      "page_content='• Developed  a hybrid  Zero -inflated -regression  model  in order  to capture  the probable  expected loads . \\n• Conducted  extensive  research  in the Online  Freight  Exchange  (OFEX)  domain,  leveraging  insights  to \\ndesign  predictive  models  for real-time inventory  management  and precise  freight  charge  prediction.   \\n \\n \\nApr-Sept   \\n2023  \\n& \\n Jun- Dec \\n2022  \\n \\n \\n \\n \\n \\nIGT Solutions,  \\nRemote  Position:  - Data  Science  Intern  \\n• Created  COVID -19 report  phasor  using  NLP  techniques.  \\n• Utilized  graph  analysis  and probability  theory  to optimize  staff allocation  across  multiple  airports.  May -Aug \\n2021  \\n \\nPROJECTS  \\n“पाठ साराांश”:  \\nHindi text Summarization  \\nusing  NLP  and Transformer  \\n   Neural  Network.  This project is focused on addressing the increasing demand for text summarization systems specifically  \\ndesigned for Hindi text. It employs a combination of extractive and abstractive methods, including TF -IDF,' metadata={'source': 'TanveerSingh_Resume.pdf', 'page': 0}\n",
      "page_content='Text Rank, T5,  and BART  to generate  concise  summaries.  The evaluation  of the generated summaries  is \\nconducted using metrics such as ROUGE -1, ROUGE -2 and ROUGE -L, which assess the quality and coherence  \\nof the summaries.   \\nJan-May  \\n2023  \\nApplication  of Mathematical' metadata={'source': 'TanveerSingh_Resume.pdf', 'page': 0}\n",
      "page_content='conducted using metrics such as ROUGE -1, ROUGE -2 and ROUGE -L, which assess the quality and coherence  \\nof the summaries.   \\nJan-May  \\n2023  \\nApplication  of Mathematical \\nTechniques  in Computed  \\nTomography  The aim of this study  was to evaluate  and improve  the accuracy  of computed  tomography  image  reconstruction  \\nthrough  various  techniques,  including  Least  Square  Method,  Filtered  Back  Projection  with different  filters,  \\nKaczmarz iterative method, and Expectation -Maximization Algorithm, in order to enhance image quality,  \\nreduce  errors,  and enable  more  effective  detection  of minute  details.   \\nSep-Nov \\n2022  \\n \\n Financial  Literacy  This study investigate s how socio -demographic factors affect Financial Literacy through the utilization of \\nmachine  learning techniques. By employing these methodologies, we examine d the correlation between socio -' metadata={'source': 'TanveerSingh_Resume.pdf', 'page': 0}\n",
      "page_content=\"demographic variables and the probability of possessing financial literacy skills. The findings of this research \\noffer ed valuable insights into the pivotal factors influencing financial literacy, facilitating the development of \\nfocused interventions and strategies to bolster financial education and inclusion efforts.   \\nJan-Feb \\n2022  \\n \\nEXTRA  CURRICULAR  ACTIVITIES  \\n \\n \\n \\nAwards  & Achievements  • Winner of Project/Poster Presentation, International Conference on Statistics 2023 of \\nNMIMS, NSoMASA.  2023  \\n• 2nd Runner -up in Insightalyze 3.0, the National Level Data Visualization Case Competition at  \\nTechnoverse'23  - the Business  Analytics  Fest of IIM Ranchi.  2023  \\n• Finalist  Pratyaksh  the Data Visualization  challenge  of Goa Institute  of Management . 2023  \\n• Selected  for Winter  School  on Deep  Learning  by ISI Kolkata .  2021  \\n• Selected  for Madhava  mathematics  camp  by TIFR  .   2020\" metadata={'source': 'TanveerSingh_Resume.pdf', 'page': 0}\n",
      "page_content='• Selected  for Madhava  mathematics  camp  by TIFR  .   2020  \\n• Introduction  to Abstract  and Linear  Algebra  by NPTEL  (Silver  Medal)   2020  \\n• Calculus  of One Variable  by NPTEL  (Silver  Medal)    2020  \\n \\nCERTIFICATIONS  & SKILLS   \\nCertifications  Understanding and Visualizing Data with Python  \\nInferential Statistical Analysis from Python  Fitting Statistical Models to Data with Python  \\nIntroduction to Graph Theory  \\nProgramming  Skills  Python, Excel, Notion, Fast -API, SQL, Tableau  \\nSkills  Statistical Analysis and Modelling, Time series Analysis, Neural Networks, Machine Learning.  \\n \\nINTERESTS  \\nAmateur Trader | Public Speaking | Standup -Comedy' metadata={'source': 'TanveerSingh_Resume.pdf', 'page': 0}\n"
     ]
    },
    {
     "data": {
      "text/plain": [
       "'Tanveer Singh Gupta MSc. Statistics and Data Science (MSc. DS. NSoMASA, NMIMS 2022 -2024 3.93/4 BS (DS and Applications) - Developed a state-of-the-art recommendation system using deep neural network-based recommendation systems for 23+ bank products on a base of 6.5+ crore customers. Leveraged S-bert encodings for grouping documents of similar context, reducing the overall redundant documents and consolidating them.'"
      ]
     },
     "execution_count": 16,
     "metadata": {},
     "output_type": "execute_result"
    }
   ],
   "source": [
    "llm_pipeline('TanveerSingh_Resume.pdf')"
   ]
  },
  {
   "cell_type": "code",
   "execution_count": null,
   "id": "6a6f50e4",
   "metadata": {},
   "outputs": [],
   "source": []
  }
 ],
 "metadata": {
  "kernelspec": {
   "display_name": "Python 3 (ipykernel)",
   "language": "python",
   "name": "python3"
  },
  "language_info": {
   "codemirror_mode": {
    "name": "ipython",
    "version": 3
   },
   "file_extension": ".py",
   "mimetype": "text/x-python",
   "name": "python",
   "nbconvert_exporter": "python",
   "pygments_lexer": "ipython3",
   "version": "3.10.9"
  }
 },
 "nbformat": 4,
 "nbformat_minor": 5
}
